{
 "cells": [
  {
   "cell_type": "markdown",
   "metadata": {},
   "source": [
    "# Exercise 10\n",
    "\n",
    "## KNN exercise with NBA player data"
   ]
  },
  {
   "cell_type": "markdown",
   "metadata": {},
   "source": [
    "## Introduction\n",
    "\n",
    "- NBA player statistics from 2014-2015 (partial season): [data](https://github.com/justmarkham/DAT4-students/blob/master/kerry/Final/NBA_players_2015.csv), [data dictionary](https://github.com/justmarkham/DAT-project-examples/blob/master/pdf/nba_paper.pdf)\n",
    "- **Goal:** Predict player position using assists, steals, blocks, turnovers, and personal fouls"
   ]
  },
  {
   "cell_type": "markdown",
   "metadata": {},
   "source": [
    "## Read the data into Pandas"
   ]
  },
  {
   "cell_type": "code",
   "execution_count": 1,
   "metadata": {
    "collapsed": true
   },
   "outputs": [],
   "source": [
    "# read the data into a DataFrame\n",
    "import pandas as pd\n",
    "url = 'https://raw.githubusercontent.com/justmarkham/DAT4-students/master/kerry/Final/NBA_players_2015.csv'\n",
    "nba = pd.read_csv(url, index_col=0)"
   ]
  },
  {
   "cell_type": "code",
   "execution_count": 2,
   "metadata": {
    "collapsed": false
   },
   "outputs": [
    {
     "data": {
      "text/plain": [
       "Index(['season_end', 'player', 'pos', 'age', 'bref_team_id', 'g', 'gs', 'mp',\n",
       "       'fg', 'fga', 'fg_', 'x3p', 'x3pa', 'x3p_', 'x2p', 'x2pa', 'x2p_', 'ft',\n",
       "       'fta', 'ft_', 'orb', 'drb', 'trb', 'ast', 'stl', 'blk', 'tov', 'pf',\n",
       "       'pts', 'G', 'MP', 'PER', 'TS%', '3PAr', 'FTr', 'TRB%', 'AST%', 'STL%',\n",
       "       'BLK%', 'TOV%', 'USG%', 'OWS', 'DWS', 'WS', 'WS/48', 'OBPM', 'DBPM',\n",
       "       'BPM', 'VORP'],\n",
       "      dtype='object')"
      ]
     },
     "execution_count": 2,
     "metadata": {},
     "output_type": "execute_result"
    }
   ],
   "source": [
    "# examine the columns\n",
    "nba.columns"
   ]
  },
  {
   "cell_type": "code",
   "execution_count": 3,
   "metadata": {
    "collapsed": false
   },
   "outputs": [
    {
     "data": {
      "text/plain": [
       "G    200\n",
       "F    199\n",
       "C     79\n",
       "Name: pos, dtype: int64"
      ]
     },
     "execution_count": 3,
     "metadata": {},
     "output_type": "execute_result"
    }
   ],
   "source": [
    "# examine the positions\n",
    "nba.pos.value_counts()"
   ]
  },
  {
   "cell_type": "markdown",
   "metadata": {},
   "source": [
    "## Create X and y\n",
    "\n",
    "Use the following features: assists, steals, blocks, turnovers, personal fouls"
   ]
  },
  {
   "cell_type": "code",
   "execution_count": 4,
   "metadata": {
    "collapsed": true
   },
   "outputs": [],
   "source": [
    "# map positions to numbers\n",
    "nba['pos_num'] = nba.pos.map({'C':0, 'F':1, 'G':2})"
   ]
  },
  {
   "cell_type": "code",
   "execution_count": 5,
   "metadata": {
    "collapsed": true
   },
   "outputs": [],
   "source": [
    "# create feature matrix (X)\n",
    "feature_cols = ['ast', 'stl', 'blk', 'tov', 'pf']\n",
    "X = nba[feature_cols]"
   ]
  },
  {
   "cell_type": "code",
   "execution_count": 6,
   "metadata": {
    "collapsed": true
   },
   "outputs": [],
   "source": [
    "# alternative way to create X\n",
    "X = nba.loc[:, 'ast':'pf']"
   ]
  },
  {
   "cell_type": "code",
   "execution_count": 7,
   "metadata": {
    "collapsed": true
   },
   "outputs": [],
   "source": [
    "# create response vector (y)\n",
    "y = nba.pos_num"
   ]
  },
  {
   "cell_type": "markdown",
   "metadata": {},
   "source": [
    "# Exercice 10.1\n",
    "\n",
    "* Split the data in train and test\n",
    "* Train a KNN model (K=5)\n",
    "* Evaluate the accuracy"
   ]
  },
  {
   "cell_type": "code",
   "execution_count": 24,
   "metadata": {
    "collapsed": true
   },
   "outputs": [],
   "source": [
    "import numpy as np "
   ]
  },
  {
   "cell_type": "code",
   "execution_count": 25,
   "metadata": {
    "collapsed": true
   },
   "outputs": [],
   "source": [
    "from sklearn.cross_validation import train_test_split\n",
    "X_train, X_test, y_train, y_test = train_test_split(X.values, y.values, random_state=123)"
   ]
  },
  {
   "cell_type": "code",
   "execution_count": 26,
   "metadata": {
    "collapsed": true
   },
   "outputs": [],
   "source": [
    "from sklearn.neighbors import KNeighborsClassifier"
   ]
  },
  {
   "cell_type": "code",
   "execution_count": 27,
   "metadata": {
    "collapsed": true
   },
   "outputs": [],
   "source": [
    "knn = KNeighborsClassifier(n_neighbors=5)"
   ]
  },
  {
   "cell_type": "code",
   "execution_count": 28,
   "metadata": {
    "collapsed": false
   },
   "outputs": [
    {
     "data": {
      "text/plain": [
       "KNeighborsClassifier(algorithm='auto', leaf_size=30, metric='minkowski',\n",
       "           metric_params=None, n_jobs=1, n_neighbors=5, p=2,\n",
       "           weights='uniform')"
      ]
     },
     "execution_count": 28,
     "metadata": {},
     "output_type": "execute_result"
    }
   ],
   "source": [
    "knn.fit(X_train, y_train)"
   ]
  },
  {
   "cell_type": "code",
   "execution_count": 29,
   "metadata": {
    "collapsed": true
   },
   "outputs": [],
   "source": [
    "y_pred = knn.predict(X_test)\n",
    "y_pred_prob = knn.predict_proba(X_test)"
   ]
  },
  {
   "cell_type": "code",
   "execution_count": 30,
   "metadata": {
    "collapsed": false
   },
   "outputs": [
    {
     "data": {
      "text/plain": [
       "array([[ 0.8,  0.2,  0. ],\n",
       "       [ 0. ,  0. ,  1. ],\n",
       "       [ 0.4,  0.6,  0. ],\n",
       "       [ 0.2,  0.8,  0. ],\n",
       "       [ 0.2,  0.6,  0.2]])"
      ]
     },
     "execution_count": 30,
     "metadata": {},
     "output_type": "execute_result"
    }
   ],
   "source": [
    "y_pred_prob[:5]"
   ]
  },
  {
   "cell_type": "code",
   "execution_count": 32,
   "metadata": {
    "collapsed": false
   },
   "outputs": [
    {
     "data": {
      "text/plain": [
       "array([[12, 10,  3],\n",
       "       [ 7, 36,  8],\n",
       "       [ 0,  8, 36]])"
      ]
     },
     "execution_count": 32,
     "metadata": {},
     "output_type": "execute_result"
    }
   ],
   "source": [
    "from sklearn.metrics import confusion_matrix\n",
    "confusion_matrix(y_test, y_pred)"
   ]
  },
  {
   "cell_type": "code",
   "execution_count": 33,
   "metadata": {
    "collapsed": false
   },
   "outputs": [
    {
     "data": {
      "text/plain": [
       "0.69999999999999996"
      ]
     },
     "execution_count": 33,
     "metadata": {},
     "output_type": "execute_result"
    }
   ],
   "source": [
    "(y_pred==y_test).mean()"
   ]
  },
  {
   "cell_type": "markdown",
   "metadata": {},
   "source": [
    "# Exercice 10.2 \n",
    "\n",
    "Predict player position and calculate predicted probability of each position\n",
    "\n",
    "Predict for a player with these statistics: 1 assist, 1 steal, 0 blocks, 1 turnover, 2 personal fouls"
   ]
  },
  {
   "cell_type": "code",
   "execution_count": 34,
   "metadata": {
    "collapsed": false
   },
   "outputs": [],
   "source": [
    "# create a list to represent a player\n",
    "import numpy as np\n",
    "player = np.array([1, 1, 0, 1, 2]).reshape(1, -1) "
   ]
  },
  {
   "cell_type": "code",
   "execution_count": 39,
   "metadata": {
    "collapsed": false
   },
   "outputs": [
    {
     "data": {
      "text/plain": [
       "(478, 50)"
      ]
     },
     "execution_count": 39,
     "metadata": {},
     "output_type": "execute_result"
    }
   ],
   "source": [
    "nba.shape"
   ]
  },
  {
   "cell_type": "code",
   "execution_count": 40,
   "metadata": {
    "collapsed": false
   },
   "outputs": [
    {
     "data": {
      "text/plain": [
       "array([[ 0.8,  0.2,  0. ],\n",
       "       [ 0. ,  0. ,  1. ],\n",
       "       [ 0.4,  0.6,  0. ],\n",
       "       [ 0.2,  0.8,  0. ],\n",
       "       [ 0.2,  0.6,  0.2],\n",
       "       [ 0.6,  0.4,  0. ],\n",
       "       [ 0. ,  0. ,  1. ],\n",
       "       [ 0. ,  0.4,  0.6],\n",
       "       [ 0. ,  0.4,  0.6],\n",
       "       [ 0. ,  0. ,  1. ],\n",
       "       [ 0. ,  0. ,  1. ],\n",
       "       [ 0. ,  0.6,  0.4],\n",
       "       [ 0.2,  0.6,  0.2],\n",
       "       [ 0.2,  0.8,  0. ],\n",
       "       [ 0. ,  0.4,  0.6],\n",
       "       [ 0. ,  0.2,  0.8],\n",
       "       [ 0.8,  0.2,  0. ],\n",
       "       [ 1. ,  0. ,  0. ],\n",
       "       [ 0. ,  0. ,  1. ],\n",
       "       [ 0.4,  0.4,  0.2],\n",
       "       [ 0.8,  0.2,  0. ],\n",
       "       [ 0. ,  0.2,  0.8],\n",
       "       [ 0.2,  0.8,  0. ],\n",
       "       [ 0. ,  0.6,  0.4],\n",
       "       [ 0.6,  0.4,  0. ],\n",
       "       [ 1. ,  0. ,  0. ],\n",
       "       [ 0. ,  0. ,  1. ],\n",
       "       [ 1. ,  0. ,  0. ],\n",
       "       [ 0. ,  0. ,  1. ],\n",
       "       [ 0. ,  0. ,  1. ],\n",
       "       [ 0. ,  0.6,  0.4],\n",
       "       [ 0.6,  0.4,  0. ],\n",
       "       [ 0.4,  0.6,  0. ],\n",
       "       [ 0. ,  0. ,  1. ],\n",
       "       [ 0.4,  0.6,  0. ],\n",
       "       [ 0. ,  0.4,  0.6],\n",
       "       [ 0.2,  0.8,  0. ],\n",
       "       [ 0. ,  0.2,  0.8],\n",
       "       [ 0. ,  0.8,  0.2],\n",
       "       [ 0. ,  0.4,  0.6],\n",
       "       [ 0.6,  0.4,  0. ],\n",
       "       [ 0. ,  0.4,  0.6],\n",
       "       [ 0.8,  0.2,  0. ],\n",
       "       [ 0. ,  0.6,  0.4],\n",
       "       [ 0. ,  0.2,  0.8],\n",
       "       [ 0. ,  0. ,  1. ],\n",
       "       [ 0.2,  0.4,  0.4],\n",
       "       [ 0.6,  0.4,  0. ],\n",
       "       [ 0.2,  0.6,  0.2],\n",
       "       [ 0. ,  0.2,  0.8],\n",
       "       [ 0. ,  0.2,  0.8],\n",
       "       [ 0. ,  1. ,  0. ],\n",
       "       [ 0. ,  0. ,  1. ],\n",
       "       [ 0.4,  0.4,  0.2],\n",
       "       [ 0. ,  0.4,  0.6],\n",
       "       [ 0.2,  0.8,  0. ],\n",
       "       [ 0. ,  0. ,  1. ],\n",
       "       [ 0. ,  0. ,  1. ],\n",
       "       [ 0. ,  0.4,  0.6],\n",
       "       [ 0. ,  0.6,  0.4],\n",
       "       [ 0. ,  0.6,  0.4],\n",
       "       [ 0. ,  1. ,  0. ],\n",
       "       [ 0.4,  0.6,  0. ],\n",
       "       [ 0. ,  0.8,  0.2],\n",
       "       [ 0.2,  0.6,  0.2],\n",
       "       [ 0. ,  0.8,  0.2],\n",
       "       [ 0. ,  0.4,  0.6],\n",
       "       [ 0. ,  0.8,  0.2],\n",
       "       [ 0. ,  0.4,  0.6],\n",
       "       [ 0.2,  0.8,  0. ],\n",
       "       [ 0.8,  0.2,  0. ],\n",
       "       [ 0.6,  0.4,  0. ],\n",
       "       [ 0. ,  0. ,  1. ],\n",
       "       [ 0.4,  0.6,  0. ],\n",
       "       [ 0. ,  0.2,  0.8],\n",
       "       [ 0. ,  1. ,  0. ],\n",
       "       [ 0. ,  0.2,  0.8],\n",
       "       [ 0.2,  0.6,  0.2],\n",
       "       [ 0. ,  0.6,  0.4],\n",
       "       [ 0. ,  0.6,  0.4],\n",
       "       [ 0.2,  0.6,  0.2],\n",
       "       [ 0.4,  0.6,  0. ],\n",
       "       [ 0. ,  0. ,  1. ],\n",
       "       [ 0.2,  0.8,  0. ],\n",
       "       [ 0. ,  1. ,  0. ],\n",
       "       [ 0.2,  0.4,  0.4],\n",
       "       [ 0. ,  0.4,  0.6],\n",
       "       [ 0. ,  0. ,  1. ],\n",
       "       [ 0. ,  0.2,  0.8],\n",
       "       [ 0. ,  0.6,  0.4],\n",
       "       [ 0. ,  1. ,  0. ],\n",
       "       [ 0. ,  0. ,  1. ],\n",
       "       [ 0. ,  0. ,  1. ],\n",
       "       [ 0. ,  0.4,  0.6],\n",
       "       [ 1. ,  0. ,  0. ],\n",
       "       [ 0.2,  0.8,  0. ],\n",
       "       [ 0.2,  0.4,  0.4],\n",
       "       [ 0. ,  0.4,  0.6],\n",
       "       [ 0.2,  0.8,  0. ],\n",
       "       [ 0. ,  0.6,  0.4],\n",
       "       [ 0. ,  0.2,  0.8],\n",
       "       [ 0. ,  0. ,  1. ],\n",
       "       [ 0. ,  0.6,  0.4],\n",
       "       [ 0.2,  0.8,  0. ],\n",
       "       [ 0. ,  0.8,  0.2],\n",
       "       [ 0.4,  0.6,  0. ],\n",
       "       [ 0.8,  0.2,  0. ],\n",
       "       [ 0.4,  0.4,  0.2],\n",
       "       [ 0. ,  0.2,  0.8],\n",
       "       [ 0.2,  0.4,  0.4],\n",
       "       [ 0. ,  1. ,  0. ],\n",
       "       [ 0. ,  0. ,  1. ],\n",
       "       [ 0.2,  0.8,  0. ],\n",
       "       [ 0. ,  0.6,  0.4],\n",
       "       [ 0. ,  0. ,  1. ],\n",
       "       [ 0.2,  0.4,  0.4],\n",
       "       [ 0. ,  0. ,  1. ],\n",
       "       [ 0. ,  0.6,  0.4],\n",
       "       [ 0.2,  0.8,  0. ],\n",
       "       [ 0. ,  0.4,  0.6]])"
      ]
     },
     "execution_count": 40,
     "metadata": {},
     "output_type": "execute_result"
    }
   ],
   "source": [
    "y_pred_prob[:479]"
   ]
  },
  {
   "cell_type": "code",
   "execution_count": null,
   "metadata": {
    "collapsed": true
   },
   "outputs": [],
   "source": []
  },
  {
   "cell_type": "markdown",
   "metadata": {},
   "source": [
    "# Exercice 10.3  \n",
    "\n",
    "Repeat steps 10.1 and 10.2 using K=50"
   ]
  },
  {
   "cell_type": "code",
   "execution_count": null,
   "metadata": {
    "collapsed": true
   },
   "outputs": [],
   "source": []
  },
  {
   "cell_type": "markdown",
   "metadata": {},
   "source": [
    "# Exercice 10.4 (3 points) \n",
    "\n",
    "Explore the features to decide which ones are predictive"
   ]
  },
  {
   "cell_type": "code",
   "execution_count": null,
   "metadata": {
    "collapsed": true
   },
   "outputs": [],
   "source": []
  }
 ],
 "metadata": {
  "kernelspec": {
   "display_name": "Python 3",
   "language": "python",
   "name": "python3"
  },
  "language_info": {
   "codemirror_mode": {
    "name": "ipython",
    "version": 3
   },
   "file_extension": ".py",
   "mimetype": "text/x-python",
   "name": "python",
   "nbconvert_exporter": "python",
   "pygments_lexer": "ipython3",
   "version": "3.5.1"
  }
 },
 "nbformat": 4,
 "nbformat_minor": 0
}
